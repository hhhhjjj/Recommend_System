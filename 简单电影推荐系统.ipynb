{
 "cells": [
  {
   "cell_type": "code",
   "execution_count": 2,
   "metadata": {
    "collapsed": true
   },
   "outputs": [],
   "source": [
    "import numpy as np\n",
    "import pandas as pd"
   ]
  },
  {
   "cell_type": "code",
   "execution_count": 3,
   "metadata": {},
   "outputs": [],
   "source": [
    "movies = pd.read_csv(\"movies.csv\")\n",
    "ratings = pd.read_csv(\"ratings.csv\")"
   ]
  },
  {
   "cell_type": "code",
   "execution_count": 4,
   "metadata": {},
   "outputs": [],
   "source": [
    "data = pd.merge(movies,ratings,on = 'movieId')#通过两数据框之间的movieId连接\n",
    "data[['userId','rating','movieId','title']].sort_values('userId').to_csv(r'merged.csv',index=False)"
   ]
  },
  {
   "cell_type": "code",
   "execution_count": 9,
   "metadata": {},
   "outputs": [],
   "source": [
    "file = open(r'merged.csv','r', encoding='UTF-8')#记得读取文件时加‘r’， encoding='UTF-8'\n",
    "##读取data.csv中每行中除了名字的数据\n",
    "data = {}##存放每位用户评论的电影和评分\n",
    "for line in file.readlines()[1:]:\n",
    "    #注意这里不是readline(),直接跳过第一行，不读取\n",
    "    line = line.strip().split(',')\n",
    "    #如果字典中没有某位用户，则使用用户ID来创建这位用户\n",
    "    if not line[0] in data.keys():\n",
    "        data[line[0]] = {line[3]:line[1]}\n",
    "    #否则直接添加以该用户ID为key字典中\n",
    "    else:\n",
    "        data[line[0]][line[3]] = line[1]"
   ]
  },
  {
   "cell_type": "code",
   "execution_count": 10,
   "metadata": {},
   "outputs": [],
   "source": [
    "# 计算相似度\n",
    "from math import pow, sqrt\n",
    "def Euclidean(user1,user2):\n",
    "    #取出两位用户评论过的电影和评分\n",
    "    user1_data=data[user1]\n",
    "    user2_data=data[user2]\n",
    "    distance = 0\n",
    "    #找到两位用户都评论过的电影，并计算欧式距离\n",
    "    for key in user1_data.keys():\n",
    "        if key in user2_data.keys():\n",
    "            #注意，distance越大表示两者越相似\n",
    "            distance += pow(float(user1_data[key])-float(user2_data[key]),2)\n",
    " \n",
    "    return 1/(1+sqrt(distance))#这里返回值越大，相似度越大"
   ]
  },
  {
   "cell_type": "code",
   "execution_count": 11,
   "metadata": {},
   "outputs": [
    {
     "name": "stdout",
     "output_type": "stream",
     "text": [
      "[('113', 1.0), ('123', 1.0), ('199', 1.0), ('210', 1.0), ('228', 1.0), ('293', 1.0), ('302', 1.0), ('371', 1.0), ('434', 1.0), ('439', 1.0)]\n"
     ]
    }
   ],
   "source": [
    "# 找到醉相思的k个用户\n",
    "def top10_similar(userID):\n",
    "    res = []\n",
    "    for userid in data.keys():\n",
    "        if not userid == userID:\n",
    "            sim = Euclidean(userID, userid)\n",
    "            res.append((userid, sim))\n",
    "    res.sort(key=lambda val:val[1], reverse=True)\n",
    "    \n",
    "    return res[:10]\n",
    "    \n",
    "RES = top10_similar('1')\n",
    "print(RES)"
   ]
  },
  {
   "cell_type": "code",
   "execution_count": 12,
   "metadata": {},
   "outputs": [
    {
     "name": "stdout",
     "output_type": "stream",
     "text": [
      "[('Jude (1996)', '5.0'), ('\"Ref', '5.0'), ('Maximum Risk (1996)', '5.0'), ('\"Grass Harp', '5.0'), ('Courage Under Fire (1996)', '5.0')]\n"
     ]
    }
   ],
   "source": [
    "def recommend(user, k=5):\n",
    "    recomm = []\n",
    "    most_sim_user = top10_similar(user)[0][0]\n",
    "    items = data[most_sim_user]\n",
    "    for item in items.keys():\n",
    "        if item not in data[user].keys():\n",
    "            recomm.append((item, items[item]))\n",
    "    recomm.sort(key=lambda val:val[1], reverse=True)\n",
    "    \n",
    "    return recomm[:k]\n",
    "        \n",
    "RECOM = recommend('1')\n",
    "print(RECOM)"
   ]
  },
  {
   "cell_type": "code",
   "execution_count": null,
   "metadata": {},
   "outputs": [],
   "source": []
  }
 ],
 "metadata": {
  "kernelspec": {
   "display_name": "Python 2",
   "language": "python",
   "name": "python2"
  },
  "language_info": {
   "codemirror_mode": {
    "name": "ipython",
    "version": 2
   },
   "file_extension": ".py",
   "mimetype": "text/x-python",
   "name": "python",
   "nbconvert_exporter": "python",
   "pygments_lexer": "ipython2",
   "version": "2.7.6"
  }
 },
 "nbformat": 4,
 "nbformat_minor": 0
}
