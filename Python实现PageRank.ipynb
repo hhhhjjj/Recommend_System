{
 "cells": [
  {
   "cell_type": "code",
   "execution_count": null,
   "metadata": {
    "collapsed": true
   },
   "outputs": [],
   "source": [
    "\n",
    "import numpy as np\n",
    " \n",
    " \n",
    "if __name__ == '__main__':\n",
    "    # 做一个txt，里面是边指向边\n",
    "    # 读入有向图，存储边\n",
    "    f = open('input_1.txt', 'r')\n",
    "    edges = [line.strip('\\n').split(' ') for line in f]\n",
    " \n",
    "    # 根据边获取节点的集合\n",
    "    nodes = []\n",
    "    for edge in edges:\n",
    "        if edge[0] not in nodes:\n",
    "            nodes.append(edge[0])\n",
    "        if edge[1] not in nodes:\n",
    "            nodes.append(edge[1])\n",
    "    print(nodes)\n",
    " \n",
    "    N = len(nodes)\n",
    " \n",
    "    # 将节点符号（字母），映射成阿拉伯数字，便于后面生成A矩阵/S矩阵\n",
    "    i = 0\n",
    "    node_to_num = {}\n",
    "    for node in nodes:\n",
    "        node_to_num[node] = i\n",
    "        i += 1\n",
    "    for edge in edges:\n",
    "        edge[0] = node_to_num[edge[0]]\n",
    "        edge[1] = node_to_num[edge[1]]\n",
    "    print(edges)\n",
    " \n",
    "    # 生成初步的S矩阵\n",
    "    # 这个S矩阵就是边对边的影响力矩阵\n",
    "    S = np.zeros([N, N])\n",
    "    for edge in edges:\n",
    "        S[edge[1], edge[0]] = 1\n",
    "    print(S)\n",
    " \n",
    "    # 计算比例：即一个网页对其他网页的PageRank值的贡献，即进行列的归一化处理\n",
    "    # 无输入和无输出的判定可能还是要加一下\n",
    "    for j in range(N):\n",
    "        sum_of_col = sum(S[:,j])\n",
    "        for i in range(N):\n",
    "            S[i, j] /= sum_of_col\n",
    "    print(S)\n",
    " \n",
    "    # 计算矩阵A\n",
    "    # 这个A矩阵就每个网页随机给其他网页的平均影响力\n",
    "    alpha = 0.85\n",
    "    A = alpha*S + (1-alpha) / N * np.ones([N, N])\n",
    "    print(A)\n",
    " \n",
    "    # 生成初始的PageRank值，记录在P_n中，P_n和P_n1均用于迭代\n",
    "    P_n = np.ones(N) / N\n",
    "    P_n1 = np.zeros(N)\n",
    " \n",
    "    e = 100000  # 误差初始化\n",
    "    k = 0   # 记录迭代次数\n",
    "    print('loop...')\n",
    " \n",
    "    while e > 0.00000001:   # 开始迭代\n",
    "        P_n1 = np.dot(A, P_n)   # 迭代公式\n",
    "        e = P_n1-P_n\n",
    "        e = max(map(abs, e))    # 计算误差\n",
    "        P_n = P_n1\n",
    "        k += 1\n",
    "        print('iteration %s:'%str(k), P_n1)\n",
    " \n",
    "    print('final result:', P_n)"
   ]
  },
  {
   "cell_type": "code",
   "execution_count": null,
   "metadata": {},
   "outputs": [],
   "source": []
  },
  {
   "cell_type": "code",
   "execution_count": null,
   "metadata": {},
   "outputs": [],
   "source": []
  },
  {
   "cell_type": "code",
   "execution_count": null,
   "metadata": {},
   "outputs": [],
   "source": []
  },
  {
   "cell_type": "code",
   "execution_count": null,
   "metadata": {},
   "outputs": [],
   "source": []
  },
  {
   "cell_type": "code",
   "execution_count": null,
   "metadata": {},
   "outputs": [],
   "source": []
  },
  {
   "cell_type": "code",
   "execution_count": null,
   "metadata": {},
   "outputs": [],
   "source": []
  },
  {
   "cell_type": "code",
   "execution_count": null,
   "metadata": {},
   "outputs": [],
   "source": []
  }
 ],
 "metadata": {
  "kernelspec": {
   "display_name": "Python 2",
   "language": "python",
   "name": "python2"
  },
  "language_info": {
   "codemirror_mode": {
    "name": "ipython",
    "version": 2
   },
   "file_extension": ".py",
   "mimetype": "text/x-python",
   "name": "python",
   "nbconvert_exporter": "python",
   "pygments_lexer": "ipython2",
   "version": "2.7.6"
  }
 },
 "nbformat": 4,
 "nbformat_minor": 0
}
